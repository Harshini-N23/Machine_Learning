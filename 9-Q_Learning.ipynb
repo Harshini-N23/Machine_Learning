{
  "nbformat": 4,
  "nbformat_minor": 0,
  "metadata": {
    "colab": {
      "provenance": []
    },
    "kernelspec": {
      "name": "python3",
      "display_name": "Python 3"
    },
    "language_info": {
      "name": "python"
    }
  },
  "cells": [
    {
      "cell_type": "markdown",
      "source": [
        "# Q Learning\n",
        "\n",
        "###  Environment - Frozen Lake\n",
        "\n",
        "### * Goal - To reach the state 16. That is the environment consists of 4x4 grid. Initial state will be 0[0,0] and the goal is to reach the state16, [4,4].\n",
        "\n",
        "### * Rewards: 0 if fallen in a hole else 1"
      ],
      "metadata": {
        "id": "INJ6Yvr6gHoU"
      }
    },
    {
      "cell_type": "code",
      "source": [
        "# Importing the libraries\n",
        "import numpy as np\n",
        "import gym"
      ],
      "metadata": {
        "id": "lp8GkkDIgzwk"
      },
      "execution_count": null,
      "outputs": []
    },
    {
      "cell_type": "code",
      "source": [
        "environment = gym.make(\"FrozenLake-v1\")\n",
        "n_observations = environment.observation_space.n\n",
        "n_actions = environment.action_space.n\n"
      ],
      "metadata": {
        "id": "e34UxvqJg5SP",
        "colab": {
          "base_uri": "https://localhost:8080/"
        },
        "outputId": "8aa3edfd-5787-4212-8ee5-5db947ad8748"
      },
      "execution_count": null,
      "outputs": [
        {
          "output_type": "stream",
          "name": "stderr",
          "text": [
            "/usr/local/lib/python3.7/dist-packages/gym/core.py:318: DeprecationWarning: \u001b[33mWARN: Initializing wrapper in old step API which returns one bool instead of two. It is recommended to set `new_step_api=True` to use new step API. This will be the default behaviour in future.\u001b[0m\n",
            "  \"Initializing wrapper in old step API which returns one bool instead of two. It is recommended to set `new_step_api=True` to use new step API. This will be the default behaviour in future.\"\n",
            "/usr/local/lib/python3.7/dist-packages/gym/wrappers/step_api_compatibility.py:40: DeprecationWarning: \u001b[33mWARN: Initializing environment in old step API which returns one bool instead of two. It is recommended to set `new_step_api=True` to use new step API. This will be the default behaviour in future.\u001b[0m\n",
            "  \"Initializing environment in old step API which returns one bool instead of two. It is recommended to set `new_step_api=True` to use new step API. This will be the default behaviour in future.\"\n"
          ]
        }
      ]
    },
    {
      "cell_type": "code",
      "source": [
        "# Creating a Qtable and initialize it to 0\n",
        "Q_table = np.zeros((n_observations,n_actions))\n",
        "print(Q_table)"
      ],
      "metadata": {
        "colab": {
          "base_uri": "https://localhost:8080/"
        },
        "id": "dLVdDImkhJf9",
        "outputId": "d2f6bc75-b0e7-4ace-df70-a50b388dcce9"
      },
      "execution_count": null,
      "outputs": [
        {
          "output_type": "stream",
          "name": "stdout",
          "text": [
            "[[0. 0. 0. 0.]\n",
            " [0. 0. 0. 0.]\n",
            " [0. 0. 0. 0.]\n",
            " [0. 0. 0. 0.]\n",
            " [0. 0. 0. 0.]\n",
            " [0. 0. 0. 0.]\n",
            " [0. 0. 0. 0.]\n",
            " [0. 0. 0. 0.]\n",
            " [0. 0. 0. 0.]\n",
            " [0. 0. 0. 0.]\n",
            " [0. 0. 0. 0.]\n",
            " [0. 0. 0. 0.]\n",
            " [0. 0. 0. 0.]\n",
            " [0. 0. 0. 0.]\n",
            " [0. 0. 0. 0.]\n",
            " [0. 0. 0. 0.]]\n"
          ]
        }
      ]
    },
    {
      "cell_type": "code",
      "source": [
        "# number of episode we will run\n",
        "n_episodes = 10000\n"
      ],
      "metadata": {
        "id": "gIA5O2p-hckH"
      },
      "execution_count": null,
      "outputs": []
    },
    {
      "cell_type": "code",
      "source": [
        "#maximum of iteration per episode\n",
        "max_iter_episode = 100"
      ],
      "metadata": {
        "id": "RzGgGS-XhrW8"
      },
      "execution_count": null,
      "outputs": []
    },
    {
      "cell_type": "code",
      "source": [
        "#initialize the exploration probability to 1\n",
        "exploration_proba = 1"
      ],
      "metadata": {
        "id": "SrUo3djPhtSv"
      },
      "execution_count": null,
      "outputs": []
    },
    {
      "cell_type": "code",
      "source": [
        "#exploartion decreasing decay for exponential decreasing\n",
        "exploration_decreasing_decay = 0.001"
      ],
      "metadata": {
        "id": "eIUJ5NP-hu22"
      },
      "execution_count": null,
      "outputs": []
    },
    {
      "cell_type": "code",
      "source": [
        "# minimum of exploration proba\n",
        "min_exploration_proba = 0.01"
      ],
      "metadata": {
        "id": "7UBUQyPNhwfI"
      },
      "execution_count": null,
      "outputs": []
    },
    {
      "cell_type": "code",
      "source": [
        "#discounted factor\n",
        "gamma = 0.99\n",
        "\n",
        "#learning rate\n",
        "lr = 0.1"
      ],
      "metadata": {
        "id": "6gdbW982hzzA"
      },
      "execution_count": null,
      "outputs": []
    },
    {
      "cell_type": "code",
      "source": [
        "# Storing the total rewards\n",
        "total_rewards_episode = list()"
      ],
      "metadata": {
        "id": "A0fU0FGKh1qw"
      },
      "execution_count": null,
      "outputs": []
    },
    {
      "cell_type": "code",
      "source": [
        "# iterating over episodes\n",
        "for e in range(n_episodes):\n",
        "    current_state = environment.reset()  # initialize the first state of the episode\n",
        "    done = False\n",
        "\n",
        "    #sum the rewards that the agent gets from the environment\n",
        "    total_episode_reward = 0\n",
        "\n",
        "    for i in range(max_iter_episode):\n",
        "        if np.random.uniform(0,1) < exploration_proba:\n",
        "            action = environment.action_space.sample()\n",
        "        else:\n",
        "            action = np.argmax(Q_table[current_state,:])\n",
        "        next_state, reward, done, _ = environment.step(action)\n",
        "\n",
        "        # updating the Q-table using the Q-learning iteration\n",
        "        Q_table[current_state, action] = (1-lr) * Q_table[current_state, action] +lr*(reward + gamma*max(Q_table[next_state,:]))\n",
        "        total_episode_reward = total_episode_reward + reward\n",
        "        if done:\n",
        "            break\n",
        "        current_state = next_state\n",
        "    # updating the exploration proba using exponential decay formula\n",
        "    exploration_proba = max(min_exploration_proba, np.exp(-exploration_decreasing_decay*e))\n",
        "    total_rewards_episode.append(total_episode_reward)"
      ],
      "metadata": {
        "id": "eJkbPrEfiPEe"
      },
      "execution_count": null,
      "outputs": []
    },
    {
      "cell_type": "code",
      "source": [
        "# Evaluating his performance\n",
        "print(\"Mean reward per thousand episodes\")\n",
        "for i in range(10):\n",
        "    print((i+1)*1000, \"mean_espiode_reward: \", np.mean(total_rewards_episode[1000*i:1000*(i+1)]))\n"
      ],
      "metadata": {
        "colab": {
          "base_uri": "https://localhost:8080/"
        },
        "id": "dX6X3SlijU6l",
        "outputId": "f763eb26-1b84-4e22-9cf9-5a157c2f0851"
      },
      "execution_count": null,
      "outputs": [
        {
          "output_type": "stream",
          "name": "stdout",
          "text": [
            "Mean reward per thousand episodes\n",
            "1000 mean_espiode_reward:  0.044\n",
            "2000 mean_espiode_reward:  0.21\n",
            "3000 mean_espiode_reward:  0.457\n",
            "4000 mean_espiode_reward:  0.594\n",
            "5000 mean_espiode_reward:  0.674\n",
            "6000 mean_espiode_reward:  0.694\n",
            "7000 mean_espiode_reward:  0.694\n",
            "8000 mean_espiode_reward:  0.695\n",
            "9000 mean_espiode_reward:  0.683\n",
            "10000 mean_espiode_reward:  0.694\n"
          ]
        }
      ]
    },
    {
      "cell_type": "markdown",
      "source": [
        "The above scores show the mean reward obtained by the agent per thousand episodes.\n",
        "Initially, the performance of the Agent was just 3%, as the training increased the efficiency of the Agent also increased. As the number of episodes increase, the agent can explore and exploit the environment efficiently.\n",
        "\n"
      ],
      "metadata": {
        "id": "LNVFjraEk7wz"
      }
    }
  ]
}