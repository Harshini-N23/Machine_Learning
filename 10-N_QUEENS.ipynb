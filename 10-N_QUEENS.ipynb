{
  "nbformat": 4,
  "nbformat_minor": 0,
  "metadata": {
    "colab": {
      "provenance": []
    },
    "kernelspec": {
      "name": "python3",
      "display_name": "Python 3"
    },
    "language_info": {
      "name": "python"
    }
  },
  "cells": [
    {
      "cell_type": "markdown",
      "source": [
        "# N-Queens Problem\n",
        "\n",
        "### Goal: To place n - queens in such a manner on an n x n chessboard that no queens attack each other by being in the same row, column or diagonal"
      ],
      "metadata": {
        "id": "3CvUHG__WsIK"
      }
    },
    {
      "cell_type": "code",
      "execution_count": null,
      "metadata": {
        "colab": {
          "base_uri": "https://localhost:8080/"
        },
        "id": "bQ-rExNmVuMw",
        "outputId": "7728b5f6-a92e-4926-9040-801bff97de3c"
      },
      "outputs": [
        {
          "output_type": "stream",
          "name": "stdout",
          "text": [
            "Enter the number of Queens : 4\n",
            "[– Q – –]\n",
            "[– – – Q]\n",
            "[Q – – –]\n",
            "[– – Q –]\n",
            "\n",
            "[– – Q –]\n",
            "[Q – – –]\n",
            "[– – – Q]\n",
            "[– Q – –]\n",
            "\n"
          ]
        }
      ],
      "source": [
        "# Function to check if two queens threaten each other or not\n",
        "def no_attack(mat, r, c):\n",
        "\n",
        "    # return false if two queens share the same column\n",
        "    for i in range(r):\n",
        "        if mat[i][c] == 'Q':\n",
        "            return False\n",
        "\n",
        "    # return false if two queens share the same `\\` diagonal\n",
        "    (i, j) = (r, c)\n",
        "    while i >= 0 and j >= 0:\n",
        "        if mat[i][j] == 'Q':\n",
        "            return False\n",
        "        i = i - 1\n",
        "        j = j - 1\n",
        "\n",
        "    # return false if two queens share the same `/` diagonal\n",
        "    (i, j) = (r, c)\n",
        "    while i >= 0 and j < len(mat):\n",
        "        if mat[i][j] == 'Q':\n",
        "            return False\n",
        "        i = i - 1\n",
        "        j = j + 1\n",
        "\n",
        "    return True\n",
        "\n",
        "\n",
        "def printSolution(mat):\n",
        "    for r in mat:\n",
        "        print(str(r).replace(',', '').replace('\\'', ''))\n",
        "    print()\n",
        "\n",
        "\n",
        "def nQueen(mat, r):\n",
        "\n",
        "    # if `N` queens are placed successfully, print the solution\n",
        "    if r == len(mat):\n",
        "        printSolution(mat)\n",
        "        return\n",
        "\n",
        "    # place queen at every square in the current row `r`\n",
        "    # and recur for each valid movement\n",
        "    for i in range(len(mat)):\n",
        "\n",
        "        # if no two queens threaten each other\n",
        "        if no_attack(mat, r, i):\n",
        "            # place queen on the current square\n",
        "            mat[r][i] = 'Q'\n",
        "\n",
        "            # recur for the next row\n",
        "            nQueen(mat, r + 1)\n",
        "\n",
        "            # backtrack and remove the queen from the current square\n",
        "            mat[r][i] = '–'\n",
        "\n",
        "\n",
        "N=int(input(\"Enter the number of Queens : \"))\n",
        "mat = [['–' for x in range(N)] for y in range(N)]\n",
        "nQueen(mat, 0)"
      ]
    }
  ]
}